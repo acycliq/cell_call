{
 "cells": [
  {
   "cell_type": "code",
   "execution_count": 1,
   "metadata": {},
   "outputs": [],
   "source": [
    "import sys\n",
    "sys.path.append(\"../\")"
   ]
  },
  {
   "cell_type": "code",
   "execution_count": 2,
   "metadata": {},
   "outputs": [
    {
     "name": "stderr",
     "output_type": "stream",
     "text": [
      "2019-03-04 17:12:26,095:DEBUG:CACHEDIR=C:\\Users\\experiment\\.matplotlib\n",
      "2019-03-04 17:12:26,102:DEBUG:Using fontManager instance from C:\\Users\\experiment\\.matplotlib\\fontList.json\n",
      "2019-03-04 17:12:26,697:DEBUG:backend module://ipykernel.pylab.backend_inline version unknown\n",
      "2019-03-04 17:12:27,528:DEBUG:backend module://ipykernel.pylab.backend_inline version unknown\n"
     ]
    }
   ],
   "source": [
    "import systemData\n",
    "import cell\n",
    "import klass\n",
    "import spot\n",
    "import utils\n",
    "import config\n",
    "import logging"
   ]
  },
  {
   "cell_type": "code",
   "execution_count": 3,
   "metadata": {},
   "outputs": [],
   "source": [
    "CONFIG_FILE = '../src/config.yml'\n",
    "\n",
    "logger = logging.getLogger()\n",
    "logging.basicConfig(\n",
    "    level=logging.DEBUG,\n",
    "    format=\"%(asctime)s:%(levelname)s:%(message)s\"\n",
    "    )"
   ]
  },
  {
   "cell_type": "code",
   "execution_count": 4,
   "metadata": {},
   "outputs": [
    {
     "name": "stderr",
     "output_type": "stream",
     "text": [
      "2019-03-04 17:12:27,561:INFO:reading CellMap from ../data/default/CellMap.mat\n",
      "2019-03-04 17:12:32,491:INFO:Rebasing CellYX to match the one-based indexed Matlab object. \n",
      "2019-03-04 17:12:32,494:INFO:********* Getting spotattributes from ../data_preprocessed/spot_attributes.nc **********\n",
      "2019-03-04 17:12:32,731:INFO:Rebasing SpotYX to match the one-based indexed Matlab object. Not sure this is needed!!\n",
      "2019-03-04 17:12:32,732:INFO:Rebasing Neighbors to match the one-based indexed Matlab object. Not sure this is needed! REMOVE IT\n",
      "..\\src\\spot.py:84: RuntimeWarning: invalid value encountered in greater\n",
      "  sanity_check = Neighbors[SpotInCell > 0, 0] + 1 == SpotInCell[SpotInCell > 0]\n",
      "..\\src\\spot.py:87: RuntimeWarning: invalid value encountered in greater\n",
      "  D[SpotInCell > 0, 0] = D[SpotInCell > 0, 0] + ini['InsideCellBonus']\n"
     ]
    }
   ],
   "source": [
    "ini = config.read(CONFIG_FILE, 'DEFAULT')\n",
    "\n",
    "# make a cell object\n",
    "cells = cell.Cell(ini)\n",
    "\n",
    "# make a spots object\n",
    "spots = spot.Spot(ini)\n",
    "\n",
    "# make a klass object\n",
    "klasses = klass.Klass(ini['gSet'])\n",
    "\n",
    "# calc the loglik and populate some of the object's properties\n",
    "spots.loglik(cells, ini)\n",
    "\n",
    "# make now a genes object\n",
    "genes = spots.getGenes()\n",
    "\n",
    "# universe\n",
    "gSub = ini['gSet'].GeneSubset(genes.names)\n",
    "gSub = gSub.ScaleCell(0)\n",
    "\n",
    "# now you can set expressions and logexpressions (as the mean expression over klass)\n",
    "genes.setKlassExpressions(klasses, ini, gSub)\n"
   ]
  },
  {
   "cell_type": "code",
   "execution_count": 5,
   "metadata": {},
   "outputs": [
    {
     "name": "stderr",
     "output_type": "stream",
     "text": [
      "2019-03-04 17:12:35,457:INFO:cell ---> klass probabilities updated\n",
      "2019-03-04 17:12:36,267:INFO:spot ---> cell probabilities updated\n",
      "2019-03-04 17:12:36,493:INFO:Iteration 0, mean prob change 1.000000\n",
      "2019-03-04 17:12:37,342:INFO:cell ---> klass probabilities updated\n",
      "2019-03-04 17:12:38,162:INFO:spot ---> cell probabilities updated\n",
      "2019-03-04 17:12:38,381:INFO:Iteration 1, mean prob change 0.794103\n",
      "2019-03-04 17:12:39,206:INFO:cell ---> klass probabilities updated\n",
      "2019-03-04 17:12:40,015:INFO:spot ---> cell probabilities updated\n",
      "2019-03-04 17:12:40,230:INFO:Iteration 2, mean prob change 0.465452\n",
      "2019-03-04 17:12:41,066:INFO:cell ---> klass probabilities updated\n",
      "2019-03-04 17:12:41,873:INFO:spot ---> cell probabilities updated\n",
      "2019-03-04 17:12:42,089:INFO:Iteration 3, mean prob change 0.271388\n",
      "2019-03-04 17:12:42,916:INFO:cell ---> klass probabilities updated\n",
      "2019-03-04 17:12:43,734:INFO:spot ---> cell probabilities updated\n",
      "2019-03-04 17:12:43,969:INFO:Iteration 4, mean prob change 0.226492\n",
      "2019-03-04 17:12:44,800:INFO:cell ---> klass probabilities updated\n",
      "2019-03-04 17:12:45,622:INFO:spot ---> cell probabilities updated\n",
      "2019-03-04 17:12:45,842:INFO:Iteration 5, mean prob change 0.253153\n",
      "2019-03-04 17:12:46,685:INFO:cell ---> klass probabilities updated\n",
      "2019-03-04 17:12:47,495:INFO:spot ---> cell probabilities updated\n",
      "2019-03-04 17:12:47,719:INFO:Iteration 6, mean prob change 0.165440\n",
      "2019-03-04 17:12:48,544:INFO:cell ---> klass probabilities updated\n",
      "2019-03-04 17:12:49,355:INFO:spot ---> cell probabilities updated\n",
      "2019-03-04 17:12:49,576:INFO:Iteration 7, mean prob change 0.109564\n",
      "2019-03-04 17:12:50,410:INFO:cell ---> klass probabilities updated\n",
      "2019-03-04 17:12:51,220:INFO:spot ---> cell probabilities updated\n",
      "2019-03-04 17:12:51,443:INFO:Iteration 8, mean prob change 0.062975\n",
      "2019-03-04 17:12:52,271:INFO:cell ---> klass probabilities updated\n",
      "2019-03-04 17:12:53,075:INFO:spot ---> cell probabilities updated\n",
      "2019-03-04 17:12:53,296:INFO:Iteration 9, mean prob change 0.038623\n",
      "2019-03-04 17:12:54,132:INFO:cell ---> klass probabilities updated\n",
      "2019-03-04 17:12:54,933:INFO:spot ---> cell probabilities updated\n",
      "2019-03-04 17:12:55,153:INFO:Iteration 10, mean prob change 0.020661\n",
      "2019-03-04 17:12:55,995:INFO:cell ---> klass probabilities updated\n",
      "2019-03-04 17:12:56,803:INFO:spot ---> cell probabilities updated\n",
      "2019-03-04 17:12:57,022:INFO:Iteration 11, mean prob change 0.015410\n"
     ]
    },
    {
     "name": "stdout",
     "output_type": "stream",
     "text": [
      "Success!!\n",
      "done\n"
     ]
    }
   ],
   "source": [
    "p0 = None\n",
    "for i in range(ini['CellCallMaxIter']):\n",
    "    # calc the number of copies of each gene in each cell\n",
    "    cells.geneCount(spots, genes)\n",
    "    \n",
    "    # cell calling: Assign cells to klasses\n",
    "    cells.klassAssignment(spots, genes, klasses, ini)\n",
    "\n",
    "    # spot calling: Assign spots to cells\n",
    "    spots.cellAssignment(cells, genes, klasses)\n",
    "\n",
    "    # Update parameter\n",
    "    genes.updateGamma(cells, spots, klasses, ini)\n",
    "\n",
    "    converged, delta = src.utils.isConverged(spots, p0, ini['CellCallTolerance'])\n",
    "    logger.info('Iteration %d, mean prob change %f' % (i, delta))\n",
    "\n",
    "    # replace p0 with the latest probabilities\n",
    "    p0 = spots.neighbors['prob']\n",
    "\n",
    "    if converged:\n",
    "        print(\"Success!!\")\n",
    "        break\n",
    "\n",
    "\n",
    "print(\"done\")"
   ]
  },
  {
   "cell_type": "code",
   "execution_count": null,
   "metadata": {},
   "outputs": [],
   "source": []
  },
  {
   "cell_type": "code",
   "execution_count": null,
   "metadata": {},
   "outputs": [],
   "source": []
  }
 ],
 "metadata": {
  "kernelspec": {
   "display_name": "Python 3",
   "language": "python",
   "name": "python3"
  },
  "language_info": {
   "codemirror_mode": {
    "name": "ipython",
    "version": 3
   },
   "file_extension": ".py",
   "mimetype": "text/x-python",
   "name": "python",
   "nbconvert_exporter": "python",
   "pygments_lexer": "ipython3",
   "version": "3.6.4"
  }
 },
 "nbformat": 4,
 "nbformat_minor": 2
}
