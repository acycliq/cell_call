{
  "nbformat": 4,
  "nbformat_minor": 0,
  "metadata": {
    "colab": {
      "name": "Demo.ipynb",
      "version": "0.3.2",
      "provenance": [],
      "collapsed_sections": [],
      "include_colab_link": true
    },
    "kernelspec": {
      "name": "python3",
      "display_name": "Python 3"
    }
  },
  "cells": [
    {
      "cell_type": "markdown",
      "metadata": {
        "id": "view-in-github",
        "colab_type": "text"
      },
      "source": [
        "<a href=\"https://colab.research.google.com/github/acycliq/spacetx/blob/master/Demo_colab.ipynb\" target=\"_parent\"><img src=\"https://colab.research.google.com/assets/colab-badge.svg\" alt=\"Open In Colab\"/></a>"
      ]
    },
    {
      "metadata": {
        "id": "UQ937m2EsKfr",
        "colab_type": "text"
      },
      "cell_type": "markdown",
      "source": [
        "# This is a Demo of the cell calling algorithm \n",
        "\n",
        "---\n",
        "\n",
        "It should run as is. Just click on 'Runtime` and then select 'Restart and run all'\n",
        "\n"
      ]
    },
    {
      "metadata": {
        "id": "uJyflZb7CHjR",
        "colab_type": "code",
        "colab": {}
      },
      "cell_type": "code",
      "source": [
        "# GIT_USERNAME = \"acycliq\"\n",
        "# GIT_TOKEN = \"f2:xxx\"\n",
        "# GIT_REPOSITORY = \"spacetx\""
      ],
      "execution_count": 0,
      "outputs": []
    },
    {
      "metadata": {
        "id": "wiLkYeHuCHUJ",
        "colab_type": "code",
        "colab": {}
      },
      "cell_type": "code",
      "source": [
        "# !mkdir \"{PROJECT_PATH}\"\n",
        "# !git clone https://{GIT_TOKEN}@github.com/{GIT_USERNAME}/{GIT_REPOSITORY}.git \"{PROJECT_PATH}\""
      ],
      "execution_count": 0,
      "outputs": []
    },
    {
      "metadata": {
        "id": "iZAc3oiYo2Gj",
        "colab_type": "code",
        "colab": {}
      },
      "cell_type": "code",
      "source": [
        "from os.path import join\n",
        "from google.colab import drive\n",
        "from importlib.machinery import SourceFileLoader\n",
        "from os.path import join\n",
        "import logging"
      ],
      "execution_count": 0,
      "outputs": []
    },
    {
      "metadata": {
        "id": "Z25hXOOhquxL",
        "colab_type": "code",
        "colab": {}
      },
      "cell_type": "code",
      "source": [
        "logger = logging.getLogger()\n",
        "logging.basicConfig(\n",
        "    level=logging.DEBUG,\n",
        "    format=\"%(asctime)s:%(levelname)s:%(message)s\"\n",
        "    )"
      ],
      "execution_count": 0,
      "outputs": []
    },
    {
      "metadata": {
        "id": "1VBJx2j8o-Va",
        "colab_type": "code",
        "outputId": "d10bb5b3-dbae-4a28-dabf-36924d8f56b6",
        "colab": {
          "base_uri": "https://localhost:8080/",
          "height": 54
        }
      },
      "cell_type": "code",
      "source": [
        "# Mount the google drive\n",
        "ROOT = \"/content/drive\"\n",
        "drive.mount(ROOT)"
      ],
      "execution_count": 0,
      "outputs": [
        {
          "output_type": "stream",
          "text": [
            "Drive already mounted at /content/drive; to attempt to forcibly remount, call drive.mount(\"/content/drive\", force_remount=True).\n"
          ],
          "name": "stdout"
        }
      ]
    },
    {
      "metadata": {
        "id": "5rPUb-1foOWK",
        "colab_type": "code",
        "colab": {}
      },
      "cell_type": "code",
      "source": [
        "PROJ = \"My Drive/Colab Experimental/Python/spacetx\" \n",
        "PROJECT_PATH = join(ROOT, PROJ)"
      ],
      "execution_count": 0,
      "outputs": []
    },
    {
      "metadata": {
        "id": "l-wNh84pHvUy",
        "colab_type": "code",
        "colab": {}
      },
      "cell_type": "code",
      "source": [
        "# Import user modules\n",
        "common = SourceFileLoader('common', join(PROJECT_PATH, 'src/common.py')).load_module()\n",
        "utils = SourceFileLoader('utils', join(PROJECT_PATH, 'src/utils.py')).load_module()\n",
        "geneset = SourceFileLoader('geneset', join(PROJECT_PATH, 'src/geneset.py')).load_module()\n",
        "config = SourceFileLoader('config', join(PROJECT_PATH, 'src/config.py')).load_module()\n",
        "gene = SourceFileLoader('gene', join(PROJECT_PATH, 'src/gene.py')).load_module()\n",
        "cell = SourceFileLoader('cell', join(PROJECT_PATH, 'src/cell.py')).load_module()\n",
        "klass = SourceFileLoader('klass', join(PROJECT_PATH, 'src/klass.py')).load_module()\n",
        "spot = SourceFileLoader('spot', join(PROJECT_PATH, 'src/spot.py')).load_module()\n"
      ],
      "execution_count": 0,
      "outputs": []
    },
    {
      "metadata": {
        "id": "Vr59sDwgKM3T",
        "colab_type": "code",
        "outputId": "1a320a7b-4dc0-4b6a-ccd1-95ecafd1229d",
        "colab": {
          "base_uri": "https://localhost:8080/",
          "height": 34
        }
      },
      "cell_type": "code",
      "source": [
        "# Read the cofiguration file\n",
        "CONFIG_FILE = join(ROOT, PROJ, 'src/config.yml')\n",
        "ini = config.read(CONFIG_FILE, 'DEFAULT')"
      ],
      "execution_count": 0,
      "outputs": [
        {
          "output_type": "stream",
          "text": [
            "reading CellMap from data/default/CellMap.mat\n"
          ],
          "name": "stdout"
        }
      ]
    },
    {
      "metadata": {
        "id": "Wou1HVVDM_hT",
        "colab_type": "code",
        "outputId": "24f2bc55-93ee-470e-be4e-45d14c46c66b",
        "colab": {
          "base_uri": "https://localhost:8080/",
          "height": 34
        }
      },
      "cell_type": "code",
      "source": [
        "# make a cell object\n",
        "cells = cell.Cell(ini)"
      ],
      "execution_count": 0,
      "outputs": [
        {
          "output_type": "stream",
          "text": [
            "2019-03-05 18:17:23,553:INFO:Rebasing CellYX to match the one-based indexed Matlab object. \n"
          ],
          "name": "stderr"
        }
      ]
    },
    {
      "metadata": {
        "id": "LRNyv3YiNCGb",
        "colab_type": "code",
        "outputId": "e4a9daad-66a1-494a-934b-570a0e92588f",
        "colab": {
          "base_uri": "https://localhost:8080/",
          "height": 54
        }
      },
      "cell_type": "code",
      "source": [
        "# make a spots object\n",
        "spots = spot.Spot(ini)"
      ],
      "execution_count": 0,
      "outputs": [
        {
          "output_type": "stream",
          "text": [
            "2019-03-05 18:17:23,575:INFO:********* Getting spotattributes from /content/drive/My Drive/Colab Experimental/Python/spacetx/data_preprocessed/spot_attributes.nc **********\n"
          ],
          "name": "stderr"
        }
      ]
    },
    {
      "metadata": {
        "id": "dCfsLblKNNVk",
        "colab_type": "code",
        "colab": {}
      },
      "cell_type": "code",
      "source": [
        "# make a klass object\n",
        "klasses = klass.Klass(ini['gSet'])"
      ],
      "execution_count": 0,
      "outputs": []
    },
    {
      "metadata": {
        "id": "6e1txogGQnX1",
        "colab_type": "code",
        "outputId": "f5ac1926-4b2b-4b3d-a895-792d4a96f174",
        "colab": {
          "base_uri": "https://localhost:8080/",
          "height": 139
        }
      },
      "cell_type": "code",
      "source": [
        "# calc the loglik and populate some of the object's properties\n",
        "spots.loglik(cells, ini)"
      ],
      "execution_count": 0,
      "outputs": [
        {
          "output_type": "stream",
          "text": [
            "2019-03-05 18:17:23,877:INFO:Rebasing SpotYX to match the one-based indexed Matlab object. Not sure this is needed!!\n",
            "2019-03-05 18:17:23,879:INFO:Rebasing Neighbors to match the one-based indexed Matlab object. Not sure this is needed! REMOVE IT\n",
            "/content/drive/My Drive/Colab Experimental/Python/spacetx/src/spot.py:90: RuntimeWarning: invalid value encountered in greater\n",
            "  sanity_check = Neighbors[SpotInCell > 0, 0] + 1 == SpotInCell[SpotInCell > 0]\n",
            "/content/drive/My Drive/Colab Experimental/Python/spacetx/src/spot.py:93: RuntimeWarning: invalid value encountered in greater\n",
            "  D[SpotInCell > 0, 0] = D[SpotInCell > 0, 0] + ini['InsideCellBonus']\n"
          ],
          "name": "stderr"
        }
      ]
    },
    {
      "metadata": {
        "id": "J7_LfXq5RFuX",
        "colab_type": "code",
        "colab": {}
      },
      "cell_type": "code",
      "source": [
        "# make now a genes object\n",
        "genes = spots.getGenes()"
      ],
      "execution_count": 0,
      "outputs": []
    },
    {
      "metadata": {
        "id": "Ma8725VMaQH3",
        "colab_type": "code",
        "colab": {}
      },
      "cell_type": "code",
      "source": [
        "# universe\n",
        "gSub = ini['gSet'].GeneSubset(genes.names)\n",
        "gSub = gSub.ScaleCell(0)"
      ],
      "execution_count": 0,
      "outputs": []
    },
    {
      "metadata": {
        "id": "vKYhTnzkcRQ3",
        "colab_type": "code",
        "colab": {}
      },
      "cell_type": "code",
      "source": [
        "# now you can set expressions and logexpressions (as the mean expression over klass)\n",
        "genes.setKlassExpressions(klasses, ini, gSub)"
      ],
      "execution_count": 0,
      "outputs": []
    },
    {
      "metadata": {
        "id": "AJNwa2tREO-6",
        "colab_type": "text"
      },
      "cell_type": "markdown",
      "source": [
        "### This where everything is put together and the algorithm runs until convergenve "
      ]
    },
    {
      "metadata": {
        "id": "7O9HGrzLiG4x",
        "colab_type": "code",
        "outputId": "07e062dc-fc24-4682-9633-d1ead184f1e8",
        "colab": {
          "base_uri": "https://localhost:8080/",
          "height": 867
        }
      },
      "cell_type": "code",
      "source": [
        "p0 = None\n",
        "for i in range(ini['CellCallMaxIter']):\n",
        "    # calc the number of copies of each gene in each cell\n",
        "    cells.geneCount(spots, genes)\n",
        "    \n",
        "    # cell calling: Assign cells to klasses\n",
        "    cells.klassAssignment(spots, genes, klasses, ini)\n",
        "\n",
        "    # spot calling: Assign spots to cells\n",
        "    spots.cellAssignment(cells, genes, klasses)\n",
        "\n",
        "    # Update parameter\n",
        "    genes.updateGamma(cells, spots, klasses, ini)\n",
        "\n",
        "    converged, delta = utils.isConverged(spots, p0, ini['CellCallTolerance'])\n",
        "    logger.info('Iteration %d, mean prob change %f' % (i, delta))\n",
        "\n",
        "    # replace p0 with the latest probabilities\n",
        "    p0 = spots.neighbors['prob']\n",
        "\n",
        "    if converged:\n",
        "        print(\"Success!!\")\n",
        "        break\n",
        "\n",
        "\n",
        "print(\"done\")"
      ],
      "execution_count": 0,
      "outputs": [
        {
          "output_type": "stream",
          "text": [
            "2019-03-05 18:17:29,246:INFO:Cell 0 is classified as Oligo.4 with prob 0.36290928\n",
            "2019-03-05 18:17:29,248:INFO:cell ---> klass probabilities updated\n",
            "2019-03-05 18:17:29,920:INFO:spot ---> cell probabilities updated\n",
            "2019-03-05 18:17:30,087:INFO:Iteration 0, mean prob change 1.000000\n",
            "2019-03-05 18:17:32,073:INFO:Cell 0 is classified as Oligo.4 with prob 0.39623591\n",
            "2019-03-05 18:17:32,075:INFO:cell ---> klass probabilities updated\n",
            "2019-03-05 18:17:32,750:INFO:spot ---> cell probabilities updated\n",
            "2019-03-05 18:17:32,917:INFO:Iteration 1, mean prob change 0.794103\n",
            "2019-03-05 18:17:34,841:INFO:Cell 0 is classified as Oligo.4 with prob 0.41011926\n",
            "2019-03-05 18:17:34,842:INFO:cell ---> klass probabilities updated\n",
            "2019-03-05 18:17:35,532:INFO:spot ---> cell probabilities updated\n",
            "2019-03-05 18:17:35,705:INFO:Iteration 2, mean prob change 0.465452\n",
            "2019-03-05 18:17:37,630:INFO:Cell 0 is classified as Oligo.4 with prob 0.41098491\n",
            "2019-03-05 18:17:37,632:INFO:cell ---> klass probabilities updated\n",
            "2019-03-05 18:17:38,298:INFO:spot ---> cell probabilities updated\n",
            "2019-03-05 18:17:38,466:INFO:Iteration 3, mean prob change 0.271388\n",
            "2019-03-05 18:17:40,391:INFO:Cell 0 is classified as Oligo.4 with prob 0.41104931\n",
            "2019-03-05 18:17:40,393:INFO:cell ---> klass probabilities updated\n",
            "2019-03-05 18:17:41,084:INFO:spot ---> cell probabilities updated\n",
            "2019-03-05 18:17:41,255:INFO:Iteration 4, mean prob change 0.226492\n",
            "2019-03-05 18:17:43,210:INFO:Cell 0 is classified as Oligo.4 with prob 0.41103381\n",
            "2019-03-05 18:17:43,211:INFO:cell ---> klass probabilities updated\n",
            "2019-03-05 18:17:43,877:INFO:spot ---> cell probabilities updated\n",
            "2019-03-05 18:17:44,045:INFO:Iteration 5, mean prob change 0.253153\n",
            "2019-03-05 18:17:45,979:INFO:Cell 0 is classified as Oligo.4 with prob 0.41100322\n",
            "2019-03-05 18:17:45,981:INFO:cell ---> klass probabilities updated\n",
            "2019-03-05 18:17:46,661:INFO:spot ---> cell probabilities updated\n",
            "2019-03-05 18:17:46,832:INFO:Iteration 6, mean prob change 0.165440\n",
            "2019-03-05 18:17:48,770:INFO:Cell 0 is classified as Oligo.4 with prob 0.41097612\n",
            "2019-03-05 18:17:48,772:INFO:cell ---> klass probabilities updated\n",
            "2019-03-05 18:17:49,443:INFO:spot ---> cell probabilities updated\n",
            "2019-03-05 18:17:49,612:INFO:Iteration 7, mean prob change 0.109564\n",
            "2019-03-05 18:17:51,520:INFO:Cell 0 is classified as Oligo.4 with prob 0.41095186\n",
            "2019-03-05 18:17:51,521:INFO:cell ---> klass probabilities updated\n",
            "2019-03-05 18:17:52,206:INFO:spot ---> cell probabilities updated\n",
            "2019-03-05 18:17:52,382:INFO:Iteration 8, mean prob change 0.062975\n",
            "2019-03-05 18:17:54,315:INFO:Cell 0 is classified as Oligo.4 with prob 0.41093952\n",
            "2019-03-05 18:17:54,317:INFO:cell ---> klass probabilities updated\n",
            "2019-03-05 18:17:55,012:INFO:spot ---> cell probabilities updated\n",
            "2019-03-05 18:17:55,184:INFO:Iteration 9, mean prob change 0.038623\n",
            "2019-03-05 18:17:57,131:INFO:Cell 0 is classified as Oligo.4 with prob 0.41093635\n",
            "2019-03-05 18:17:57,133:INFO:cell ---> klass probabilities updated\n",
            "2019-03-05 18:17:57,821:INFO:spot ---> cell probabilities updated\n",
            "2019-03-05 18:17:58,000:INFO:Iteration 10, mean prob change 0.020661\n",
            "2019-03-05 18:17:59,968:INFO:Cell 0 is classified as Oligo.4 with prob 0.41093501\n",
            "2019-03-05 18:17:59,969:INFO:cell ---> klass probabilities updated\n",
            "2019-03-05 18:18:00,655:INFO:spot ---> cell probabilities updated\n",
            "2019-03-05 18:18:00,827:INFO:Iteration 11, mean prob change 0.015410\n"
          ],
          "name": "stderr"
        },
        {
          "output_type": "stream",
          "text": [
            "Success!!\n",
            "done\n"
          ],
          "name": "stdout"
        }
      ]
    },
    {
      "metadata": {
        "id": "c8dEL0aEjQeJ",
        "colab_type": "code",
        "colab": {}
      },
      "cell_type": "code",
      "source": [
        ""
      ],
      "execution_count": 0,
      "outputs": []
    }
  ]
}
