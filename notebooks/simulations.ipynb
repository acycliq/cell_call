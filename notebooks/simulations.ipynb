{
 "cells": [
  {
   "cell_type": "code",
   "execution_count": 11,
   "metadata": {},
   "outputs": [],
   "source": [
    "import numpy as np\n",
    "import pandas as pd\n",
    "import xarray as xr\n",
    "import random\n",
    "import time\n",
    "import os\n",
    "from pathlib import Path"
   ]
  },
  {
   "cell_type": "code",
   "execution_count": 12,
   "metadata": {},
   "outputs": [],
   "source": [
    "def fetch_data():\n",
    "    '''\n",
    "    reads the raw data\n",
    "    '''\n",
    "    dir_path = Path().resolve().as_posix()\n",
    "    # print(dir_path)\n",
    "    df = pd.read_json(\"https://raw.githubusercontent.com/acycliq/issplus/master/dashboard/data/img/default/json/iss.json\")\n",
    "    GeneExp = np.load(dir_path + '/../data_preprocessed/GeneExp.npy')\n",
    "    genes = [line.rstrip(\"\\n''\") for line in open(dir_path + '/../data_preprocessed/genes.csv')]\n",
    "    ctc = [line.rstrip(\"\\n''\") for line in open(dir_path + '/../data_preprocessed/cell_to_class_map.csv')]\n",
    "\n",
    "    # Rename PC.CA2 to PC.Other1 and PC.CA3 to PC.Other2\n",
    "    ctc = ['PC.Other1' if x == 'PC.CA2' else x for x in ctc]\n",
    "    ctc = ['PC.Other2' if x == 'PC.CA3' else x for x in ctc]\n",
    "\n",
    "    ge = xr.DataArray(GeneExp, coords=[genes, ctc], dims=['Genes', 'Class'])\n",
    "    return df, ge"
   ]
  },
  {
   "cell_type": "code",
   "execution_count": 13,
   "metadata": {},
   "outputs": [],
   "source": [
    "def best_class(df):\n",
    "    '''\n",
    "    Returns a list with the names of all the optimal/best classes\n",
    "    '''\n",
    "    class_name = df['ClassName']\n",
    "    prob = df['Prob']\n",
    "    out = [class_name[n][np.argmax(prob[n])] for n in range(class_name.shape[0])]\n",
    "    return out"
   ]
  },
  {
   "cell_type": "code",
   "execution_count": 14,
   "metadata": {},
   "outputs": [],
   "source": [
    "def draw_gene_expression(df, ge):\n",
    "    '''\n",
    "    Main purpose is to make gene expression 2d arrays of dimension\n",
    "    num_of_genes by num_of_classes by randomly sampling from the main\n",
    "    (full) expression matrix (which is of size num_of_genes by num_of_cells)\n",
    "    '''\n",
    "    # cell class (unique and ranked alphabetically)\n",
    "    best_classes = sorted(set(df['best_class']))\n",
    "    class_list = ge.Class.values.tolist()\n",
    "    N = len(best_classes)\n",
    "    M = ge.shape[0]\n",
    "    out = {'cid': [],\n",
    "           'Cell_Num': [],\n",
    "           'X': [],\n",
    "           'Y': [],\n",
    "           'class_name': [],\n",
    "           'gene_name': ge.Genes.values.tolist(),\n",
    "           'col': [],\n",
    "           'GeneExp': np.empty([M, N], dtype=np.int32)\n",
    "           }\n",
    "    for i in range(N):\n",
    "        # select a class\n",
    "        bc = best_classes[i]\n",
    "#         print(bc)\n",
    "\n",
    "        # carve out data only relevant to the selected class\n",
    "        class_df = df[df['best_class'] == bc]\n",
    "\n",
    "        # randomly select a cell of that specific class\n",
    "        cid = random.choice(class_df.index)\n",
    "        temp = class_df.loc[cid]\n",
    "\n",
    "        # keep the data for that particular cell to a dictionary\n",
    "        out['cid'].append(cid)\n",
    "        out['Cell_Num'].append(temp['Cell_Num'])  # This is 1-based, not 0-based\n",
    "        out['X'].append(temp['X'])\n",
    "        out['Y'].append(temp['Y'])\n",
    "        out['class_name'].append(temp['best_class'])\n",
    "#         start = time.time()\n",
    "        mask = [i for i in range(len(class_list)) if class_list[i] == bc]\n",
    "#         print(time.time() - start)\n",
    "        col = random.choice(mask)\n",
    "        out['col'].append(col)\n",
    "        out['GeneExp'][:, i] = ge[:, col]\n",
    "\n",
    "    return out"
   ]
  },
  {
   "cell_type": "code",
   "execution_count": 15,
   "metadata": {},
   "outputs": [],
   "source": [
    "def thinner(data):\n",
    "    '''\n",
    "    shrink the gene expressions towards zero\n",
    "    '''\n",
    "    p = 0.1\n",
    "    mat = data['GeneExp']\n",
    "    rnd = np.random.binomial(mat, p)\n",
    "    data['GeneExp'] = rnd\n",
    "    return data"
   ]
  },
  {
   "cell_type": "code",
   "execution_count": 16,
   "metadata": {},
   "outputs": [],
   "source": [
    "def position_genes(data):\n",
    "    '''\n",
    "    place the genes on the plane, centered around the corresponding cell center\n",
    "    where the locations are distributed randomly (and independedly) with st dev r\n",
    "    '''\n",
    "    r = 8.8673\n",
    "    u = np.random.normal(0, r, data['GeneExp'].shape)\n",
    "    v = np.random.normal(0, r, data['GeneExp'].shape)\n",
    "    _xCoord = (data[\"X\"]+u)*(data['GeneExp'] > 0)\n",
    "    _yCoord = (data[\"Y\"]+v)*(data['GeneExp'] > 0)\n",
    "\n",
    "    xCoord = pd.DataFrame(_xCoord,\n",
    "                          columns=data['class_name'],\n",
    "                          index=data['gene_name']\n",
    "                          )\n",
    "    yCoord = pd.DataFrame(_yCoord,\n",
    "                          columns=data['class_name'],\n",
    "                          index=data['gene_name']\n",
    "                          )\n",
    "\n",
    "    # print('in position')\n",
    "    return xCoord, yCoord"
   ]
  },
  {
   "cell_type": "code",
   "execution_count": 17,
   "metadata": {},
   "outputs": [],
   "source": [
    "def flatten(df):\n",
    "    '''\n",
    "    flattens a dataframe\n",
    "    '''\n",
    "    temp = df.unstack()\n",
    "    values = temp.values\n",
    "    labels = temp.index.droplevel().values\n",
    "    out = np.hstack( (labels[:, None], values[:, None]) )\n",
    "    return out"
   ]
  },
  {
   "cell_type": "code",
   "execution_count": 18,
   "metadata": {},
   "outputs": [],
   "source": [
    "def xy_pairs(x, y):\n",
    "    '''\n",
    "    zips x, y lists to produce the coordinates\n",
    "    '''\n",
    "\n",
    "    # check is x and y are aligned\n",
    "    assert np.all(x[:, 0] == y[:, 0])\n",
    "\n",
    "    # remove if both are zero\n",
    "    isZero = (np.array(x[:, 1]) == 0) & (np.array(y[:, 1]) == 0)\n",
    "    x = x[~isZero, :]\n",
    "    y = y[~isZero, :]\n",
    "\n",
    "    # return the gene names and associated coordinates\n",
    "    _labels = x[:, 0]\n",
    "    _x = x[:, 1]\n",
    "    _y = y[:, 1]\n",
    "    out = np.hstack((_labels[:, None], _x[:, None], _y[:, None]))\n",
    "    return out"
   ]
  },
  {
   "cell_type": "code",
   "execution_count": 19,
   "metadata": {},
   "outputs": [],
   "source": [
    "def post_process(df1, df2):\n",
    "    x = flatten(df1)\n",
    "    y = flatten(df2)\n",
    "    out = xy_pairs(x, y)\n",
    "    return out"
   ]
  },
  {
   "cell_type": "code",
   "execution_count": 20,
   "metadata": {},
   "outputs": [
    {
     "ename": "FileNotFoundError",
     "evalue": "[Errno 2] No such file or directory: 'D:/Dimitris/OneDrive - University College London/dev/Python/spacetx/notebooks../data_preprocessed/GeneExp.npy'",
     "output_type": "error",
     "traceback": [
      "\u001b[1;31m---------------------------------------------------------------------------\u001b[0m",
      "\u001b[1;31mFileNotFoundError\u001b[0m                         Traceback (most recent call last)",
      "\u001b[1;32m<ipython-input-20-0f113bd922d0>\u001b[0m in \u001b[0;36m<module>\u001b[1;34m()\u001b[0m\n\u001b[0;32m      5\u001b[0m \u001b[1;33m\u001b[0m\u001b[0m\n\u001b[0;32m      6\u001b[0m     \u001b[1;31m# Fetch the data\u001b[0m\u001b[1;33m\u001b[0m\u001b[1;33m\u001b[0m\u001b[0m\n\u001b[1;32m----> 7\u001b[1;33m     \u001b[0mraw_data\u001b[0m\u001b[1;33m,\u001b[0m \u001b[0mgene_expression\u001b[0m \u001b[1;33m=\u001b[0m \u001b[0mfetch_data\u001b[0m\u001b[1;33m(\u001b[0m\u001b[1;33m)\u001b[0m\u001b[1;33m\u001b[0m\u001b[0m\n\u001b[0m\u001b[0;32m      8\u001b[0m \u001b[1;33m\u001b[0m\u001b[0m\n\u001b[0;32m      9\u001b[0m     \u001b[1;31m# for each cell find its most likely cell class\u001b[0m\u001b[1;33m\u001b[0m\u001b[1;33m\u001b[0m\u001b[0m\n",
      "\u001b[1;32m<ipython-input-12-8ee9f6138cac>\u001b[0m in \u001b[0;36mfetch_data\u001b[1;34m()\u001b[0m\n\u001b[0;32m      6\u001b[0m     \u001b[1;31m# print(dir_path)\u001b[0m\u001b[1;33m\u001b[0m\u001b[1;33m\u001b[0m\u001b[0m\n\u001b[0;32m      7\u001b[0m     \u001b[0mdf\u001b[0m \u001b[1;33m=\u001b[0m \u001b[0mpd\u001b[0m\u001b[1;33m.\u001b[0m\u001b[0mread_json\u001b[0m\u001b[1;33m(\u001b[0m\u001b[1;34m\"https://raw.githubusercontent.com/acycliq/issplus/master/dashboard/data/img/default/json/iss.json\"\u001b[0m\u001b[1;33m)\u001b[0m\u001b[1;33m\u001b[0m\u001b[0m\n\u001b[1;32m----> 8\u001b[1;33m     \u001b[0mGeneExp\u001b[0m \u001b[1;33m=\u001b[0m \u001b[0mnp\u001b[0m\u001b[1;33m.\u001b[0m\u001b[0mload\u001b[0m\u001b[1;33m(\u001b[0m\u001b[0mdir_path\u001b[0m \u001b[1;33m+\u001b[0m \u001b[1;34m'../data_preprocessed/GeneExp.npy'\u001b[0m\u001b[1;33m)\u001b[0m\u001b[1;33m\u001b[0m\u001b[0m\n\u001b[0m\u001b[0;32m      9\u001b[0m     \u001b[0mgenes\u001b[0m \u001b[1;33m=\u001b[0m \u001b[1;33m[\u001b[0m\u001b[0mline\u001b[0m\u001b[1;33m.\u001b[0m\u001b[0mrstrip\u001b[0m\u001b[1;33m(\u001b[0m\u001b[1;34m\"\\n''\"\u001b[0m\u001b[1;33m)\u001b[0m \u001b[1;32mfor\u001b[0m \u001b[0mline\u001b[0m \u001b[1;32min\u001b[0m \u001b[0mopen\u001b[0m\u001b[1;33m(\u001b[0m\u001b[0mdir_path\u001b[0m \u001b[1;33m+\u001b[0m \u001b[1;34m'../data_preprocessed/genes.csv'\u001b[0m\u001b[1;33m)\u001b[0m\u001b[1;33m]\u001b[0m\u001b[1;33m\u001b[0m\u001b[0m\n\u001b[0;32m     10\u001b[0m     \u001b[0mctc\u001b[0m \u001b[1;33m=\u001b[0m \u001b[1;33m[\u001b[0m\u001b[0mline\u001b[0m\u001b[1;33m.\u001b[0m\u001b[0mrstrip\u001b[0m\u001b[1;33m(\u001b[0m\u001b[1;34m\"\\n''\"\u001b[0m\u001b[1;33m)\u001b[0m \u001b[1;32mfor\u001b[0m \u001b[0mline\u001b[0m \u001b[1;32min\u001b[0m \u001b[0mopen\u001b[0m\u001b[1;33m(\u001b[0m\u001b[0mdir_path\u001b[0m \u001b[1;33m+\u001b[0m \u001b[1;34m'../data_preprocessed/cell_to_class_map.csv'\u001b[0m\u001b[1;33m)\u001b[0m\u001b[1;33m]\u001b[0m\u001b[1;33m\u001b[0m\u001b[0m\n",
      "\u001b[1;32m~\\Miniconda3\\lib\\site-packages\\numpy\\lib\\npyio.py\u001b[0m in \u001b[0;36mload\u001b[1;34m(file, mmap_mode, allow_pickle, fix_imports, encoding)\u001b[0m\n\u001b[0;32m    370\u001b[0m     \u001b[0mown_fid\u001b[0m \u001b[1;33m=\u001b[0m \u001b[1;32mFalse\u001b[0m\u001b[1;33m\u001b[0m\u001b[0m\n\u001b[0;32m    371\u001b[0m     \u001b[1;32mif\u001b[0m \u001b[0misinstance\u001b[0m\u001b[1;33m(\u001b[0m\u001b[0mfile\u001b[0m\u001b[1;33m,\u001b[0m \u001b[0mbasestring\u001b[0m\u001b[1;33m)\u001b[0m\u001b[1;33m:\u001b[0m\u001b[1;33m\u001b[0m\u001b[0m\n\u001b[1;32m--> 372\u001b[1;33m         \u001b[0mfid\u001b[0m \u001b[1;33m=\u001b[0m \u001b[0mopen\u001b[0m\u001b[1;33m(\u001b[0m\u001b[0mfile\u001b[0m\u001b[1;33m,\u001b[0m \u001b[1;34m\"rb\"\u001b[0m\u001b[1;33m)\u001b[0m\u001b[1;33m\u001b[0m\u001b[0m\n\u001b[0m\u001b[0;32m    373\u001b[0m         \u001b[0mown_fid\u001b[0m \u001b[1;33m=\u001b[0m \u001b[1;32mTrue\u001b[0m\u001b[1;33m\u001b[0m\u001b[0m\n\u001b[0;32m    374\u001b[0m     \u001b[1;32melif\u001b[0m \u001b[0mis_pathlib_path\u001b[0m\u001b[1;33m(\u001b[0m\u001b[0mfile\u001b[0m\u001b[1;33m)\u001b[0m\u001b[1;33m:\u001b[0m\u001b[1;33m\u001b[0m\u001b[0m\n",
      "\u001b[1;31mFileNotFoundError\u001b[0m: [Errno 2] No such file or directory: 'D:/Dimitris/OneDrive - University College London/dev/Python/spacetx/notebooks../data_preprocessed/GeneExp.npy'"
     ]
    }
   ],
   "source": [
    "if __name__ == \"__main__\":\n",
    "    n = 1000 #sample size\n",
    "    xCoord = []\n",
    "    yCoord = []\n",
    "\n",
    "    # Fetch the data\n",
    "    raw_data, gene_expression = fetch_data()\n",
    "\n",
    "    # for each cell find its most likely cell class\n",
    "    bc = best_class(raw_data)\n",
    "\n",
    "    # stick it at the end of the dataframe\n",
    "    raw_data['best_class'] = bc\n",
    "\n",
    "    # remove cells belonging to the Zero class\n",
    "    nonZero = raw_data['best_class'] != 'Zero'\n",
    "    raw_data = raw_data[nonZero]\n",
    "\n",
    "    spots = np.empty((0, 3))\n",
    "    start = time.time()\n",
    "    while spots.shape[0] < n:\n",
    "        sample = draw_gene_expression(raw_data, gene_expression)\n",
    "\n",
    "        sample = thinner(sample)\n",
    "\n",
    "        _xCoord, _yCoord = position_genes(sample)\n",
    "        _spots = post_process(_xCoord, _yCoord)\n",
    "        spots = np.append(spots, _spots, axis=0)\n",
    "        xCoord.append(_xCoord)\n",
    "        yCoord.append(_yCoord)\n",
    "\n",
    "\n",
    "    print('Done!')\n",
    "    print('Collected %d spots in %4.2f secs' % (spots.shape[0], time.time()-start))\n"
   ]
  },
  {
   "cell_type": "code",
   "execution_count": null,
   "metadata": {},
   "outputs": [],
   "source": [
    "xCoord[0].shape"
   ]
  },
  {
   "cell_type": "code",
   "execution_count": null,
   "metadata": {},
   "outputs": [],
   "source": [
    "xCoord[0].head()"
   ]
  },
  {
   "cell_type": "code",
   "execution_count": null,
   "metadata": {},
   "outputs": [],
   "source": [
    "yCoord[0].head()"
   ]
  },
  {
   "cell_type": "code",
   "execution_count": null,
   "metadata": {},
   "outputs": [],
   "source": [
    "sample['GeneExp'].shape"
   ]
  },
  {
   "cell_type": "code",
   "execution_count": null,
   "metadata": {},
   "outputs": [],
   "source": [
    "spots"
   ]
  },
  {
   "cell_type": "code",
   "execution_count": null,
   "metadata": {},
   "outputs": [],
   "source": []
  },
  {
   "cell_type": "code",
   "execution_count": null,
   "metadata": {},
   "outputs": [],
   "source": []
  },
  {
   "cell_type": "code",
   "execution_count": null,
   "metadata": {},
   "outputs": [],
   "source": []
  },
  {
   "cell_type": "code",
   "execution_count": null,
   "metadata": {},
   "outputs": [],
   "source": []
  },
  {
   "cell_type": "code",
   "execution_count": null,
   "metadata": {},
   "outputs": [],
   "source": []
  },
  {
   "cell_type": "code",
   "execution_count": null,
   "metadata": {},
   "outputs": [],
   "source": []
  },
  {
   "cell_type": "code",
   "execution_count": null,
   "metadata": {},
   "outputs": [],
   "source": []
  },
  {
   "cell_type": "code",
   "execution_count": null,
   "metadata": {},
   "outputs": [],
   "source": []
  },
  {
   "cell_type": "code",
   "execution_count": null,
   "metadata": {},
   "outputs": [],
   "source": []
  },
  {
   "cell_type": "code",
   "execution_count": null,
   "metadata": {},
   "outputs": [],
   "source": []
  },
  {
   "cell_type": "code",
   "execution_count": null,
   "metadata": {},
   "outputs": [],
   "source": []
  },
  {
   "cell_type": "code",
   "execution_count": null,
   "metadata": {},
   "outputs": [],
   "source": []
  }
 ],
 "metadata": {
  "kernelspec": {
   "display_name": "Python 3",
   "language": "python",
   "name": "python3"
  },
  "language_info": {
   "codemirror_mode": {
    "name": "ipython",
    "version": 3
   },
   "file_extension": ".py",
   "mimetype": "text/x-python",
   "name": "python",
   "nbconvert_exporter": "python",
   "pygments_lexer": "ipython3",
   "version": "3.6.4"
  }
 },
 "nbformat": 4,
 "nbformat_minor": 2
}
