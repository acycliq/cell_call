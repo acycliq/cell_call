{
 "cells": [
  {
   "cell_type": "code",
   "execution_count": 57,
   "metadata": {},
   "outputs": [],
   "source": [
    "import numpy as np\n",
    "import pandas as pd\n",
    "import xarray as xr\n",
    "import random\n",
    "import time\n",
    "import os\n",
    "from pathlib import Path"
   ]
  },
  {
   "cell_type": "code",
   "execution_count": 58,
   "metadata": {},
   "outputs": [],
   "source": [
    "def fetch_data():\n",
    "    '''\n",
    "    reads the raw data\n",
    "    '''\n",
    "    dir_path = Path().resolve().as_posix()\n",
    "    print(dir_path)\n",
    "    df = pd.read_json(\"https://raw.githubusercontent.com/acycliq/issplus/master/dashboard/data/img/default/json/iss.json\")\n",
    "    GeneExp = np.load(dir_path + '/data_preprocessed/GeneExp.npy')\n",
    "    genes = [line.rstrip(\"\\n''\") for line in open(dir_path + '/data_preprocessed/genes.csv')]\n",
    "    ctc = [line.rstrip(\"\\n''\") for line in open(dir_path + '/data_preprocessed/cell_to_class_map.csv')]\n",
    "\n",
    "    # Rename PC.CA2 to PC.Other1 and PC.CA3 to PC.Other2\n",
    "    ctc = ['PC.Other1' if x == 'PC.CA2' else x for x in ctc]\n",
    "    ctc = ['PC.Other2' if x == 'PC.CA3' else x for x in ctc]\n",
    "\n",
    "    ge = xr.DataArray(GeneExp, coords=[genes, ctc], dims=['Genes', 'Class'])\n",
    "    return df, ge"
   ]
  },
  {
   "cell_type": "code",
   "execution_count": 59,
   "metadata": {},
   "outputs": [],
   "source": [
    "def best_class(df):\n",
    "    '''\n",
    "    Returns a list with the names of all the optimal/best classes\n",
    "    '''\n",
    "    class_name = df['ClassName']\n",
    "    prob = df['Prob']\n",
    "    out = [class_name[n][np.argmax(prob[n])] for n in range(class_name.shape[0])]\n",
    "    return out"
   ]
  },
  {
   "cell_type": "code",
   "execution_count": 60,
   "metadata": {},
   "outputs": [],
   "source": [
    "def draw_gene_expression(df, ge):\n",
    "    '''\n",
    "    Main purpose is to make gene expression 2d arrays of dimension\n",
    "    num_of_genes by num_of_classes by randomly sampling from the main\n",
    "    (full) expression matrix (which is of size num_of_genes by num_of_cells)\n",
    "    '''\n",
    "    # cell class (unique and ranked alphabetically)\n",
    "    best_classes = sorted(set(df['best_class']))\n",
    "    class_list = ge.Class.values.tolist()\n",
    "    N = len(best_classes)\n",
    "    M = ge.shape[0]\n",
    "    out = {'cid': [],\n",
    "           'Cell_Num': [],\n",
    "           'X': [],\n",
    "           'Y': [],\n",
    "           'class_name': [],\n",
    "           'gene_name': ge.Genes.values.tolist(),\n",
    "           'col': [],\n",
    "           'GenExp': np.empty([M, N], dtype=np.int32)\n",
    "           }\n",
    "    for i in range(N):\n",
    "        # select a class\n",
    "        bc = best_classes[i]\n",
    "#         print(bc)\n",
    "\n",
    "        # carve out data only relevant to the selected class\n",
    "        class_df = df[df['best_class'] == bc]\n",
    "\n",
    "        # randomly select a cell of that specific class\n",
    "        cid = random.choice(class_df.index)\n",
    "        temp = class_df.loc[cid]\n",
    "\n",
    "        # keep the data for that particular cell to a dictionary\n",
    "        out['cid'].append(cid)\n",
    "        out['Cell_Num'].append(temp['Cell_Num'])  # This is 1-based, not 0-based\n",
    "        out['X'].append(temp['X'])\n",
    "        out['Y'].append(temp['Y'])\n",
    "        out['class_name'].append(temp['best_class'])\n",
    "#         start = time.time()\n",
    "        mask = [i for i in range(len(class_list)) if class_list[i] == bc]\n",
    "#         print(time.time() - start)\n",
    "        col = random.choice(mask)\n",
    "        out['col'].append(col)\n",
    "        out['GenExp'][:, i] = ge[:, col]\n",
    "\n",
    "    return out"
   ]
  },
  {
   "cell_type": "markdown",
   "metadata": {},
   "source": [
    "Sort them:"
   ]
  },
  {
   "cell_type": "code",
   "execution_count": 61,
   "metadata": {},
   "outputs": [],
   "source": [
    "def thinner(data):\n",
    "    '''\n",
    "    shrink the gene expressions towards zero\n",
    "    '''\n",
    "    p = 0.1\n",
    "    mat = data['GenExp']\n",
    "    rnd = np.random.binomial(mat, p)\n",
    "    data['GenExp'] = rnd\n",
    "    return data"
   ]
  },
  {
   "cell_type": "code",
   "execution_count": 62,
   "metadata": {},
   "outputs": [],
   "source": [
    "def position_genes(data):\n",
    "    '''\n",
    "    place the genes on the plane, centered around the corresponding cell center\n",
    "    where the locations are distributed randomly (and independedly) with st dev r\n",
    "    '''\n",
    "    r = 8.8673\n",
    "    u = np.random.normal(0, r, data['GenExp'].shape)\n",
    "    v = np.random.normal(0, r, data['GenExp'].shape)\n",
    "    _xCoord = (data[\"X\"]+u)*(data['GenExp'] > 0)\n",
    "    _yCoord = (data[\"Y\"]+v)*(data['GenExp'] > 0)\n",
    "\n",
    "    xCoord = pd.DataFrame(_xCoord,\n",
    "                          columns=data['class_name'],\n",
    "                          index=data['gene_name']\n",
    "                          )\n",
    "    yCoord = pd.DataFrame(_yCoord,\n",
    "                          columns=data['class_name'],\n",
    "                          index=data['gene_name']\n",
    "                          )\n",
    "\n",
    "    print('in position')\n",
    "    return xCoord, yCoord"
   ]
  },
  {
   "cell_type": "code",
   "execution_count": 63,
   "metadata": {},
   "outputs": [
    {
     "name": "stdout",
     "output_type": "stream",
     "text": [
      "D:/Dimitris/OneDrive - University College London/dev/Python/spacetx\n",
      "in position\n",
      "in position\n",
      "in position\n",
      "in position\n",
      "in position\n",
      "in position\n",
      "in position\n",
      "in position\n",
      "in position\n",
      "in position\n",
      "Done!\n",
      "finished 10 iterations in 0.87 secs\n"
     ]
    }
   ],
   "source": [
    "maxIter = 10 #sample size\n",
    "xCoord = []\n",
    "yCoord = []\n",
    "\n",
    "# Fetch the data\n",
    "raw_data, gene_expression = fetch_data()\n",
    "\n",
    "# for each cell find its most likely cell class\n",
    "bc = best_class(raw_data)\n",
    "\n",
    "# stick it at the end of the dataframe\n",
    "raw_data['best_class'] = bc\n",
    "\n",
    "# remove cells belonging to the Zero class\n",
    "nonZero = raw_data['best_class'] != 'Zero'\n",
    "raw_data = raw_data[nonZero]\n",
    "\n",
    "start = time.time()\n",
    "for i in range(maxIter):\n",
    "    sample = draw_gene_expression(raw_data, gene_expression)\n",
    "\n",
    "    sample = thinner(sample)\n",
    "\n",
    "    _xCoord, _yCoord = position_genes(sample)\n",
    "    xCoord.append(_xCoord)\n",
    "    yCoord.append(_yCoord)\n",
    "    \n",
    "print('Done!')\n",
    "print('finished %d iterations in %4.2f secs' % (maxIter, time.time()-start))"
   ]
  },
  {
   "cell_type": "code",
   "execution_count": null,
   "metadata": {},
   "outputs": [],
   "source": []
  },
  {
   "cell_type": "code",
   "execution_count": null,
   "metadata": {},
   "outputs": [],
   "source": []
  },
  {
   "cell_type": "code",
   "execution_count": null,
   "metadata": {},
   "outputs": [],
   "source": []
  },
  {
   "cell_type": "code",
   "execution_count": null,
   "metadata": {},
   "outputs": [],
   "source": []
  },
  {
   "cell_type": "code",
   "execution_count": null,
   "metadata": {},
   "outputs": [],
   "source": []
  },
  {
   "cell_type": "code",
   "execution_count": null,
   "metadata": {},
   "outputs": [],
   "source": []
  },
  {
   "cell_type": "code",
   "execution_count": null,
   "metadata": {},
   "outputs": [],
   "source": []
  },
  {
   "cell_type": "code",
   "execution_count": null,
   "metadata": {},
   "outputs": [],
   "source": []
  },
  {
   "cell_type": "code",
   "execution_count": null,
   "metadata": {},
   "outputs": [],
   "source": []
  },
  {
   "cell_type": "code",
   "execution_count": null,
   "metadata": {},
   "outputs": [],
   "source": []
  },
  {
   "cell_type": "code",
   "execution_count": null,
   "metadata": {},
   "outputs": [],
   "source": []
  },
  {
   "cell_type": "code",
   "execution_count": null,
   "metadata": {},
   "outputs": [],
   "source": []
  },
  {
   "cell_type": "code",
   "execution_count": null,
   "metadata": {},
   "outputs": [],
   "source": []
  },
  {
   "cell_type": "code",
   "execution_count": null,
   "metadata": {},
   "outputs": [],
   "source": []
  },
  {
   "cell_type": "code",
   "execution_count": null,
   "metadata": {},
   "outputs": [],
   "source": []
  },
  {
   "cell_type": "code",
   "execution_count": null,
   "metadata": {},
   "outputs": [],
   "source": []
  },
  {
   "cell_type": "code",
   "execution_count": null,
   "metadata": {},
   "outputs": [],
   "source": []
  }
 ],
 "metadata": {
  "kernelspec": {
   "display_name": "Python 3",
   "language": "python",
   "name": "python3"
  },
  "language_info": {
   "codemirror_mode": {
    "name": "ipython",
    "version": 3
   },
   "file_extension": ".py",
   "mimetype": "text/x-python",
   "name": "python",
   "nbconvert_exporter": "python",
   "pygments_lexer": "ipython3",
   "version": "3.6.4"
  }
 },
 "nbformat": 4,
 "nbformat_minor": 2
}
